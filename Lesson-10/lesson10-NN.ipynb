{
 "cells": [
  {
   "cell_type": "markdown",
   "metadata": {},
   "source": [
    "# lesson 10 inclass code practice"
   ]
  },
  {
   "cell_type": "markdown",
   "metadata": {},
   "source": [
    "build a ancester class"
   ]
  },
  {
   "cell_type": "markdown",
   "metadata": {},
   "source": [
    "Node: \n",
    "##forward: Function, how to calculate the inputs\n",
    "##backward: Function, how to get the gradients of the nodes, when backpropagation\n",
    "##gradients: mapper, the gradient of this node to its inputs node\n",
    "##inputs: list, the inputs nodes of this node\n",
    "##outputs: list, the outputs nodes of this node"
   ]
  },
  {
   "cell_type": "markdown",
   "metadata": {},
   "source": [
    "# Object Oriented"
   ]
  },
  {
   "cell_type": "code",
   "execution_count": 40,
   "metadata": {
    "collapsed": true
   },
   "outputs": [],
   "source": [
    "import numpy as np"
   ]
  },
  {
   "cell_type": "code",
   "execution_count": 41,
   "metadata": {
    "collapsed": true
   },
   "outputs": [],
   "source": [
    "class Node:\n",
    "    \"\"\"\n",
    "    Each node will have these attributions and methods\n",
    "    \"\"\"\n",
    "    def __init__(self, inputs=[]):\n",
    "        \"\"\"\n",
    "        if the node is anoprator of ax+b, its input will be x, and output will its successors, so the \n",
    "        inputs and outputs will be the connected nodes to the node\n",
    "        \"\"\"\n",
    "        self.inputs = inputs\n",
    "        self.outputs = []\n",
    "        self.value = None\n",
    "        self.gradients = {}\n",
    "        \n",
    "        for node in self.inputs:\n",
    "            node.outputs.append(self) #build connected relationship\n",
    "            \n",
    "    def forward(self):\n",
    "        \"\"\"\n",
    "        compute the output value based on the input nodes\n",
    "        \"\"\"\n",
    "        raise NotImplemented\n",
    "        \n",
    "    def backward(self):\n",
    "        \"\"\"\n",
    "        compute the gradients of current note based on the input nodes\n",
    "        \"\"\"\n",
    "        raise NotImplemented\n",
    "           "
   ]
  },
  {
   "cell_type": "code",
   "execution_count": 42,
   "metadata": {
    "collapsed": true
   },
   "outputs": [],
   "source": [
    "class Input(Node):\n",
    "    '''\n",
    "    if the node is the operator of \"ax + b\"; see a , b , x both as a node object\n",
    "    So this Input object is for feedding data to the layer.\n",
    "    In order to make graph simple ,and casue it's fully connected network ,we can see one layer as as Node\n",
    "    '''\n",
    "    def __init__(self, name, inputs=[]):\n",
    "        self.name = name\n",
    "        super().__init__(inputs)\n",
    "        \n",
    "    def forward(self, value=None):\n",
    "        if value:\n",
    "            self.value = value\n",
    "            \n",
    "    def backward(self):\n",
    "        self.gradients = {}\n",
    "         #从输出节点中获取loss函数对该节点的偏导，而用该值乘该节点对input参数的导数即得到loss对input的导数\n",
    "        #由此可见该节点可以得到loss对input的导数，这也是为什么该节点直接从output节点中获取loss函数对该节点的偏导\n",
    "        for node in self.outputs:\n",
    "            grad_cost = node.gradients[self]\n",
    "            self.gradients[self] = grad_cost\n",
    "            \n",
    "    def __repr__(self):\n",
    "        return \"Input Node: {}\".format(self.name)\n",
    "        "
   ]
  },
  {
   "cell_type": "code",
   "execution_count": 43,
   "metadata": {
    "collapsed": true
   },
   "outputs": [],
   "source": [
    "class Linear(Node):\n",
    "    def __init__(self, nodes, weights, bias):\n",
    "        '''\n",
    "        nodes, weigths,bias is Input node object\n",
    "        '''\n",
    "        self.w_node = weights\n",
    "        self.x_node = nodes\n",
    "        self.b_node = bias\n",
    "        super().__init__(inputs=[nodes, weights, bias])\n",
    "        \n",
    "    def forward(self):\n",
    "        '''\n",
    "        compute the a*x + b, In order to make it available for matric input ,\n",
    "        we use numpy  to caculate    \n",
    "        '''\n",
    "        #print(self.x_node.value.shape, self.w_node.value.shape,'33333')\n",
    "        self.value = np.dot(self.x_node.value, self.w_node.value.T) + self.b_node.value\n",
    "        \n",
    "    def backward(self):\n",
    "        \"\"\"\n",
    "        linear function get gradients of nodes\n",
    "        \"\"\"\n",
    "        for node in self.outputs:\n",
    "            grad_cost = node.gradients[self]\n",
    "            self.gradients[self] = grad_cost\n",
    "            self.gradients[self.w_node] = np.dot(grad_cost.T, self.x_node.value)\n",
    "            self.gradients[self.x_node] = np.dot(grad_cost, self.w_node.value)\n",
    "            self.gradients[self.b_node] = grad_cost"
   ]
  },
  {
   "cell_type": "code",
   "execution_count": 44,
   "metadata": {
    "collapsed": true
   },
   "outputs": [],
   "source": [
    "class Sigmoid(Node):\n",
    "    def __init__(self, node):\n",
    "        self.x_node = node\n",
    "        super().__init__([node])\n",
    "        \n",
    "    def _sigmoid(self, x):\n",
    "        return 1. / (1 + np.exp(-1 * x))\n",
    "    \n",
    "    def forward(self):\n",
    "        self.value = self._sigmoid(self.x_node.value)\n",
    "        \n",
    "    def backward(self):\n",
    "        y = self.value\n",
    "        self.partial = y * (1 - y)\n",
    "        \n",
    "        for n in self.outputs:\n",
    "            grad_cost = n.gradients[self]\n",
    "            self.gradients[self] = grad_cost\n",
    "            #不管是矩阵输入还是单个输入，self.partial都是一个一维常数，所以可以直接相乘\n",
    "            self.gradients[self.x_node] = grad_cost * self.partial "
   ]
  },
  {
   "cell_type": "code",
   "execution_count": 45,
   "metadata": {
    "collapsed": true
   },
   "outputs": [],
   "source": [
    "class MSE(Node):\n",
    "    def __init__(self, y_true, y_hat):\n",
    "        self.y_true_node = y_true\n",
    "        self.y_hat_node = y_hat\n",
    "        super().__init__(inputs=[y_true, y_hat])\n",
    "        \n",
    "    def forward(self):\n",
    "        y_true_flatten = self.y_true_node.value.reshape(-1, 1)\n",
    "        y_hat_flatten = self.y_hat_node.value.reshape(-1, 1)\n",
    "        self.diff = y_true_flatten - y_hat_flatten\n",
    "        self.value = np.mean(self.diff ** 2)\n",
    "        \n",
    "    def backward(self):\n",
    "        n = self.y_hat_node.value.shape[0]\n",
    "        self.gradients[self.y_true_node] = (2 / n) * self.diff\n",
    "        self.gradients[self.y_hat_node] = (-2 / n) * self.diff\n",
    "        "
   ]
  },
  {
   "cell_type": "code",
   "execution_count": 46,
   "metadata": {
    "collapsed": true
   },
   "outputs": [],
   "source": [
    "def training_one_batch(topological_sorted_graph):\n",
    "    # graph 是经过拓扑排序之后的 一个list\n",
    "    for node in topological_sorted_graph:\n",
    "        node.forward()\n",
    "    for node in topological_sorted_graph[::-1]:\n",
    "        node.backward()"
   ]
  },
  {
   "cell_type": "code",
   "execution_count": 47,
   "metadata": {
    "collapsed": false
   },
   "outputs": [
    {
     "name": "stdout",
     "output_type": "stream",
     "text": [
      "14\n",
      "0.9999991684719722\n",
      "0.4899988358614525\n"
     ]
    }
   ],
   "source": [
    "#单节点传播测试\n",
    "#当输入数据变成矩阵时，相当于单节点就变成了layer\n",
    "step1 = 3 * 4 + 2 \n",
    "print(step1)\n",
    "step2 = 1. / (1 + np.exp(-1* step1))\n",
    "print(step2)\n",
    "loss = (step2 - 0.3) ** 2\n",
    "print(loss)"
   ]
  },
  {
   "cell_type": "code",
   "execution_count": 48,
   "metadata": {
    "collapsed": false
   },
   "outputs": [],
   "source": [
    "x = Input('x')\n",
    "y = Input('y')\n",
    "w = Input('w')\n",
    "b = Input('b')\n",
    "linear_output = Linear(x, w, b)\n",
    "y_hat = Sigmoid(linear_output)\n",
    "loss = MSE(y, y_hat)"
   ]
  },
  {
   "cell_type": "code",
   "execution_count": 49,
   "metadata": {
    "collapsed": true
   },
   "outputs": [],
   "source": [
    "x.value = np.array([3])\n",
    "y.value = np.array([0.3])\n",
    "w.value = np.array([4])\n",
    "b.value = np.array([2])"
   ]
  },
  {
   "cell_type": "code",
   "execution_count": 50,
   "metadata": {
    "collapsed": true
   },
   "outputs": [],
   "source": [
    "linear_output.forward()\n",
    "y_hat.forward()\n",
    "loss.forward()"
   ]
  },
  {
   "cell_type": "code",
   "execution_count": 51,
   "metadata": {
    "collapsed": false
   },
   "outputs": [],
   "source": [
    "loss.backward()\n",
    "y_hat.backward()\n",
    "linear_output.backward()"
   ]
  },
  {
   "cell_type": "code",
   "execution_count": 53,
   "metadata": {
    "collapsed": false
   },
   "outputs": [
    {
     "name": "stdout",
     "output_type": "stream",
     "text": [
      "[14] [0.99999917] 0.4899988358614525\n"
     ]
    }
   ],
   "source": [
    "print(linear_output.value, y_hat.value, loss.value)"
   ]
  },
  {
   "cell_type": "code",
   "execution_count": 74,
   "metadata": {
    "collapsed": true
   },
   "outputs": [],
   "source": [
    "def topological_sort(data_with_value):\n",
    "    inputs_nodes = [n for n in data_with_value.keys()]\n",
    "    nodes = inputs_nodes.copy()\n",
    "    G= {}\n",
    "    \n",
    "    while len(nodes) > 0:\n",
    "        n = nodes.pop(0) #广度优先搜索找出每个节点的in节点和out节点\n",
    "        if n not in G:\n",
    "            G[n] = {'in' : set(), 'out' : set()}\n",
    "            for m in n.outputs:\n",
    "                if m not in G:\n",
    "                    G[m] = {'in' : set(), 'out' : set()}\n",
    "                G[n]['out'].add(m)\n",
    "                G[m]['in'].add(n)\n",
    "                nodes.append(m)\n",
    "                \n",
    "    L = []\n",
    "    S = set(inputs_nodes)\n",
    "    while len(S) > 0:\n",
    "        n = S.pop()\n",
    "        L.append(n)\n",
    "        for  m in n.outputs:\n",
    "            G[n]['out'].remove(m)\n",
    "            G[m]['in'].remove(n)\n",
    "            # if no other incoming edges add to S\n",
    "            if len(G[m]['in']) ==0:\n",
    "                S.add(m)\n",
    "    return L     "
   ]
  },
  {
   "cell_type": "code",
   "execution_count": 77,
   "metadata": {
    "collapsed": true
   },
   "outputs": [],
   "source": [
    "def topological_sort(data_with_value):\n",
    "    input_nodes = [n for n in data_with_value.keys()]\n",
    "    \n",
    "    nodes = input_nodes.copy()\n",
    "    G = {}\n",
    "    while len(nodes) > 0:\n",
    "        n = nodes.pop(0) #广度优先搜索找出每个节点的in节点和out节点\n",
    "        if n not in G:\n",
    "            G[n] = {'in': set(), 'out': set()}\n",
    "        for m in n.outputs:\n",
    "            if m not in G:\n",
    "                G[m] = {'in': set(), 'out': set()}\n",
    "            G[n]['out'].add(m)\n",
    "            G[m]['in'].add(n)\n",
    "            nodes.append(m)\n",
    "\n",
    "    L = []\n",
    "    S = set(input_nodes)\n",
    "    while len(S) > 0:\n",
    "        n = S.pop()\n",
    "#         if isinstance(n, Input):\n",
    "#             n.value = feed_dict[n] #feed orgin value, it's ok do it somewhere else        \n",
    "        L.append(n)\n",
    "        for m in n.outputs:\n",
    "            G[n]['out'].remove(m)\n",
    "            G[m]['in'].remove(n)\n",
    "            # if no other incoming edges add to S\n",
    "            if len(G[m]['in']) == 0:\n",
    "                S.add(m)\n",
    "    return L"
   ]
  },
  {
   "cell_type": "code",
   "execution_count": 70,
   "metadata": {
    "collapsed": true
   },
   "outputs": [],
   "source": [
    "def sgd_update(trainable_nodes, learning_rate=1e-2):\n",
    "    '''\n",
    "    因为我们要优化的是w和b这些参数矩阵，所以trainable_nodes就应该是这些参数代表的节点\n",
    "    '''\n",
    "    for t in trainable_nodes:\n",
    "        step = -1 * learning_rate * t.gradients[t]\n",
    "        t.value = t.value + step"
   ]
  },
  {
   "cell_type": "code",
   "execution_count": 56,
   "metadata": {
    "collapsed": true
   },
   "outputs": [],
   "source": [
    "from sklearn.datasets import load_boston"
   ]
  },
  {
   "cell_type": "code",
   "execution_count": 57,
   "metadata": {
    "collapsed": true
   },
   "outputs": [],
   "source": [
    "from sklearn.utils import resample"
   ]
  },
  {
   "cell_type": "code",
   "execution_count": 58,
   "metadata": {
    "collapsed": true
   },
   "outputs": [],
   "source": [
    "def feed_data(feed_dict):\n",
    "    for key in feed_dict.keys():\n",
    "        key.value = feed_dict[key]"
   ]
  },
  {
   "cell_type": "code",
   "execution_count": 82,
   "metadata": {
    "collapsed": false
   },
   "outputs": [
    {
     "name": "stdout",
     "output_type": "stream",
     "text": [
      "64 1234\n",
      "Epoch: 1, loss = 151.259\n",
      "Epoch: 101, loss = 7.181\n",
      "Epoch: 201, loss = 3.516\n",
      "Epoch: 301, loss = 3.202\n",
      "Epoch: 401, loss = 2.497\n",
      "Epoch: 501, loss = 1.934\n",
      "Epoch: 601, loss = 1.616\n",
      "Epoch: 701, loss = 1.450\n",
      "Epoch: 801, loss = 1.301\n",
      "Epoch: 901, loss = 0.991\n",
      "Epoch: 1001, loss = 0.984\n",
      "Epoch: 1101, loss = 1.080\n",
      "Epoch: 1201, loss = 0.867\n",
      "Epoch: 1301, loss = 0.738\n",
      "Epoch: 1401, loss = 0.887\n",
      "Epoch: 1501, loss = 0.852\n",
      "Epoch: 1601, loss = 0.749\n",
      "Epoch: 1701, loss = 0.765\n",
      "Epoch: 1801, loss = 0.562\n",
      "Epoch: 1901, loss = 0.619\n",
      "Epoch: 2001, loss = 0.662\n",
      "Epoch: 2101, loss = 0.574\n",
      "Epoch: 2201, loss = 0.534\n",
      "Epoch: 2301, loss = 0.503\n",
      "Epoch: 2401, loss = 0.498\n",
      "Epoch: 2501, loss = 0.409\n",
      "Epoch: 2601, loss = 0.439\n",
      "Epoch: 2701, loss = 0.529\n",
      "Epoch: 2801, loss = 0.386\n",
      "Epoch: 2901, loss = 0.439\n",
      "Epoch: 3001, loss = 0.405\n",
      "Epoch: 3101, loss = 0.316\n",
      "Epoch: 3201, loss = 0.296\n",
      "Epoch: 3301, loss = 0.316\n",
      "Epoch: 3401, loss = 0.334\n",
      "Epoch: 3501, loss = 0.364\n",
      "Epoch: 3601, loss = 0.327\n",
      "Epoch: 3701, loss = 0.298\n",
      "Epoch: 3801, loss = 0.262\n",
      "Epoch: 3901, loss = 0.279\n",
      "Epoch: 4001, loss = 0.260\n",
      "Epoch: 4101, loss = 0.325\n",
      "Epoch: 4201, loss = 0.207\n",
      "Epoch: 4301, loss = 0.201\n",
      "Epoch: 4401, loss = 0.196\n",
      "Epoch: 4501, loss = 0.219\n",
      "Epoch: 4601, loss = 0.226\n",
      "Epoch: 4701, loss = 0.224\n",
      "Epoch: 4801, loss = 0.198\n",
      "Epoch: 4901, loss = 0.184\n"
     ]
    }
   ],
   "source": [
    "data = load_boston()\n",
    "X_ = data['data']\n",
    "y_ = data['target']\n",
    "\n",
    "X_ = (X_ - np.mean(X_, axis=0)) / np.std(X_, axis=0)\n",
    "\n",
    "n_features = X_.shape[1]\n",
    "n_hidden1 = 64 #隐藏层是64个节点\n",
    "n_hidden2 = 64 #隐藏层是64个节点\n",
    "n_out = 1\n",
    "\n",
    "W1_, b1_ = np.random.randn(n_hidden1, n_features), np.zeros(n_hidden1)\n",
    "W2_, b2_ = np.random.randn(n_hidden2, n_hidden1), np.zeros(n_hidden2)\n",
    "W3_, b3_ = np.random.randn(1, n_hidden2), np.zeros(1)\n",
    "\n",
    "# Input data. For the training data\n",
    "X, y = Input(name='X'), Input(name='y')\n",
    "W1, b1 = Input(name='W1'), Input(name='b1')\n",
    "W2, b2 = Input(name='W2'), Input(name='b2')\n",
    "W3, b3 = Input(name='W3'), Input(name='b3')\n",
    "\n",
    "#network connection\n",
    "linear_output1 = Linear(X, W1, b1)\n",
    "sigmoid_output1 = Sigmoid(linear_output1)\n",
    "linear_output2 = Linear(sigmoid_output1, W2, b2)\n",
    "sigmoid_output2= Sigmoid(linear_output2)\n",
    "yhat = Linear(sigmoid_output2, W3, b3)\n",
    "loss = MSE(y, yhat)\n",
    "\n",
    "# get topological sort, use this order to  compute Back propagation\n",
    "input_node_with_value = {X:X_, y:y_, W1: W1_, W2: W2_, W3: W3_,b1: b1_, b2: b2_,b3: b3_}\n",
    "graph = topological_sort(input_node_with_value)\n",
    "\n",
    "#feed initial weight and bias of each layer\n",
    "feed_dict = {W1 : W1_, W2:W2_, W3:W3_, b1:b1_, b2:b2_, b3:b3_}\n",
    "feed_data(feed_dict)\n",
    "print(len(W1.value), '1234')\n",
    "\n",
    "losses =[]\n",
    "epochs = 5000\n",
    "batch_size = 96\n",
    "step_per_epoch = X_.shape[0] // batch_size\n",
    "learning_rate = 1e-2\n",
    "\n",
    "for i in range(epochs):\n",
    "    loss = 0\n",
    "    for _step in range(step_per_epoch):\n",
    "        #random choose data\n",
    "        X_batch, y_batch = resample(X_, y_, n_samples=batch_size)\n",
    "        feed_dict = {X:X_batch, y:y_batch}\n",
    "        feed_data(feed_dict)\n",
    "        #print(len(X.value), '111')\n",
    "        \n",
    "        training_one_batch(graph) #训练一次\n",
    "        sgd_update(trainable_nodes = [W1, W2, W3, b1, b2, b3], learning_rate=learning_rate)\n",
    "        \n",
    "        loss += graph[-1].value\n",
    "        \n",
    "    if i % 100 == 0:\n",
    "        print('Epoch: {}, loss = {:.3f}'.format(i+1, loss / step_per_epoch))\n",
    "        losses.append(loss)\n",
    "        "
   ]
  },
  {
   "cell_type": "code",
   "execution_count": 85,
   "metadata": {
    "collapsed": true
   },
   "outputs": [],
   "source": [
    "import matplotlib.pyplot as plt\n",
    "%matplotlib inline"
   ]
  },
  {
   "cell_type": "code",
   "execution_count": 86,
   "metadata": {
    "collapsed": false
   },
   "outputs": [
    {
     "data": {
      "text/plain": [
       "[<matplotlib.lines.Line2D at 0x1fb4aadf828>]"
      ]
     },
     "execution_count": 86,
     "metadata": {},
     "output_type": "execute_result"
    },
    {
     "data": {
      "image/png": "[encoded data removed]",
      "text/plain": [
       "<matplotlib.figure.Figure at 0x1fb4aa65358>"
      ]
     },
     "metadata": {},
     "output_type": "display_data"
    }
   ],
   "source": [
    "plt.plot(losses)"
   ]
  },
  {
   "cell_type": "code",
   "execution_count": 87,
   "metadata": {
    "collapsed": false
   },
   "outputs": [
    {
     "name": "stdout",
     "output_type": "stream",
     "text": [
      "(96, 64)\n",
      "(96, 64)\n",
      "(96, 64)\n"
     ]
    }
   ],
   "source": [
    "print(linear_output1.value.shape)\n",
    "print(sigmoid_output1.value.shape)\n",
    "print(linear_output2.value.shape)"
   ]
  },
  {
   "cell_type": "code",
   "execution_count": 88,
   "metadata": {
    "collapsed": false
   },
   "outputs": [
    {
     "ename": "ImportError",
     "evalue": "No module named 'tensorflow'",
     "output_type": "error",
     "traceback": [
      "\u001b[1;31m---------------------------------------------------------------------------\u001b[0m",
      "\u001b[1;31mImportError\u001b[0m                               Traceback (most recent call last)",
      "\u001b[1;32m<ipython-input-88-814b7d72022f>\u001b[0m in \u001b[0;36m<module>\u001b[1;34m()\u001b[0m\n\u001b[0;32m      1\u001b[0m \u001b[1;32mfrom\u001b[0m \u001b[0m__future__\u001b[0m \u001b[1;32mimport\u001b[0m \u001b[0mabsolute_import\u001b[0m\u001b[1;33m,\u001b[0m \u001b[0mdivision\u001b[0m\u001b[1;33m,\u001b[0m \u001b[0mprint_function\u001b[0m\u001b[1;33m,\u001b[0m \u001b[0municode_literals\u001b[0m\u001b[1;33m\u001b[0m\u001b[0m\n\u001b[1;32m----> 2\u001b[1;33m \u001b[1;32mimport\u001b[0m \u001b[0mtensorflow\u001b[0m \u001b[1;32mas\u001b[0m \u001b[0mtf\u001b[0m\u001b[1;33m\u001b[0m\u001b[0m\n\u001b[0m\u001b[0;32m      3\u001b[0m \u001b[1;32mimport\u001b[0m \u001b[0mlogging\u001b[0m\u001b[1;33m\u001b[0m\u001b[0m\n\u001b[0;32m      4\u001b[0m \u001b[0mlogger\u001b[0m \u001b[1;33m=\u001b[0m \u001b[0mtf\u001b[0m\u001b[1;33m.\u001b[0m\u001b[0mget_logger\u001b[0m\u001b[1;33m(\u001b[0m\u001b[1;33m)\u001b[0m\u001b[1;33m\u001b[0m\u001b[0m\n\u001b[0;32m      5\u001b[0m \u001b[0mlogger\u001b[0m\u001b[1;33m.\u001b[0m\u001b[0msetLevel\u001b[0m\u001b[1;33m(\u001b[0m\u001b[0mlogging\u001b[0m\u001b[1;33m.\u001b[0m\u001b[0mERROR\u001b[0m\u001b[1;33m)\u001b[0m\u001b[1;33m\u001b[0m\u001b[0m\n",
      "\u001b[1;31mImportError\u001b[0m: No module named 'tensorflow'"
     ]
    }
   ],
   "source": [
    "from __future__ import absolute_import, division, print_function, unicode_literals\n",
    "import tensorflow as tf\n",
    "import logging\n",
    "logger = tf.get_logger()\n",
    "logger.setLevel(logging.ERROR)"
   ]
  },
  {
   "cell_type": "code",
   "execution_count": null,
   "metadata": {
    "collapsed": true
   },
   "outputs": [],
   "source": []
  }
 ],
 "metadata": {
  "anaconda-cloud": {},
  "kernelspec": {
   "display_name": "Python [Root]",
   "language": "python",
   "name": "Python [Root]"
  },
  "language_info": {
   "codemirror_mode": {
    "name": "ipython",
    "version": 3
   },
   "file_extension": ".py",
   "mimetype": "text/x-python",
   "name": "python",
   "nbconvert_exporter": "python",
   "pygments_lexer": "ipython3",
   "version": "3.5.6"
  }
 },
 "nbformat": 4,
 "nbformat_minor": 0
}
