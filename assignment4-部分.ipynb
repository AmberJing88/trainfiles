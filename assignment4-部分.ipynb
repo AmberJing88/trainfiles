{
 "cells": [
  {
   "cell_type": "markdown",
   "metadata": {},
   "source": [
    "# lesson 4 Assignment-Word2Vec practice"
   ]
  },
  {
   "cell_type": "markdown",
   "metadata": {
    "collapsed": true
   },
   "source": [
    "1. download wikipedia copus\n",
    "2. extract the contents with wiki-extractor\n",
    "3. change tradiational CHinese to simplist Chinese with OpenCC\n",
    "4. clean the file with jieba \n",
    "5. use gensim and w2v try to find the similar words\n"
   ]
  },
  {
   "cell_type": "markdown",
   "metadata": {
    "collapsed": true
   },
   "source": [
    "first 3 steps finished with PowerShell, here begin with jieba"
   ]
  },
  {
   "cell_type": "code",
   "execution_count": 1,
   "metadata": {
    "collapsed": true
   },
   "outputs": [],
   "source": [
    "import jieba\n",
    "import re"
   ]
  },
  {
   "cell_type": "code",
   "execution_count": 2,
   "metadata": {
    "collapsed": false
   },
   "outputs": [],
   "source": [
    "input0 = r'C:\\Users\\Jing\\extracted\\zhwiki_00'\n",
    "input1 = r'C:\\Users\\jing\\extracted\\zhwiki_01'\n",
    "output0 = r'C:\\Users\\Jing\\extracted\\cleaned_wiki0'\n",
    "output1 = r'C:\\Users\\Jing\\extracted\\cleaned_wiki1'"
   ]
  },
  {
   "cell_type": "code",
   "execution_count": 3,
   "metadata": {
    "collapsed": false
   },
   "outputs": [],
   "source": [
    "# 停用词文件位置\n",
    "file = r'C:\\Users\\Jing\\extracted\\stop-words.txt'"
   ]
  },
  {
   "cell_type": "code",
   "execution_count": 12,
   "metadata": {
    "collapsed": false
   },
   "outputs": [],
   "source": [
    "# 分词\n",
    "def token(string):   # remove punctuation\n",
    "    return re.findall('\\w+', string)\n",
    "\n",
    "def jieba_cut(infile, outfile):\n",
    "    file_input = open(infile, 'r', encoding='utf-8')\n",
    "    file_output = open(outfile, 'w+', encoding='utf-8')\n",
    "    \n",
    "    line = file_input.readline()\n",
    "    \n",
    "    while line != '':\n",
    "        if line.startwith('</doc>'):\n",
    "            words = ''\n",
    "            line = file_input.readline() # empty line\n",
    "            line = file_input.readline()\n",
    "            \n",
    "        if line.startwith('<doc id='):\n",
    "            words = words.strip()\n",
    "            words_clean = jieba.cut(''.join(token(str(words))))\n",
    "            results = []\n",
    "            for word in words_clean:\n",
    "                result.append(word)\n",
    "            file_output.write(result)\n",
    "            \n",
    "        words = line.strip('\\n')\n",
    "        line = file_input.readline()\n",
    "        \n",
    "        \n",
    "    file_input.close\n",
    "    file_output.close\n",
    "                \n",
    "            \n",
    "            \n",
    "   \n",
    "        "
   ]
  },
  {
   "cell_type": "code",
   "execution_count": 21,
   "metadata": {
    "collapsed": false
   },
   "outputs": [
    {
     "name": "stderr",
     "output_type": "stream",
     "text": [
      "Building prefix dict from the default dictionary ...\n",
      "Dumping model to file cache C:\\Users\\Jing\\AppData\\Local\\Temp\\jieba.cache\n",
      "Loading model cost 9.020 seconds.\n",
      "Prefix dict has been built succesfully.\n"
     ]
    }
   ],
   "source": [
    "jieba_deal(input1, output1)  # input0, output0"
   ]
  },
  {
   "cell_type": "code",
   "execution_count": null,
   "metadata": {
    "collapsed": true
   },
   "outputs": [],
   "source": []
  },
  {
   "cell_type": "code",
   "execution_count": null,
   "metadata": {
    "collapsed": true
   },
   "outputs": [],
   "source": []
  },
  {
   "cell_type": "markdown",
   "metadata": {},
   "source": [
    "# 使用gensim w2v 训练词向量"
   ]
  },
  {
   "cell_type": "code",
   "execution_count": 25,
   "metadata": {
    "collapsed": false
   },
   "outputs": [],
   "source": [
    "import gensim\n",
    "from gensim.models import word2vec"
   ]
  },
  {
   "cell_type": "code",
   "execution_count": 32,
   "metadata": {
    "collapsed": false
   },
   "outputs": [
    {
     "name": "stderr",
     "output_type": "stream",
     "text": [
      "C:\\Anaconda3\\lib\\site-packages\\gensim\\models\\base_any2vec.py:743: UserWarning: C extension not loaded, training will be slow. Install a C compiler and reinstall gensim for fast training.\n",
      "  \"C extension not loaded, training will be slow. \"\n"
     ]
    }
   ],
   "source": [
    "# -*-coding:utf-8-*-\n",
    "# data.encode('utf-8').strip()\n",
    "with open(r'C:\\Users\\Jing\\extracted\\train_cut.txt', 'r') as tester:\n",
    "    corpus = tester.readlines()\n",
    "#sentences = word2vec.Text8Corpus(r'C:\\Users\\Jing\\extracted\\train_cut.txt')\n",
    "model = word2vec.Word2Vec(sentences=corpus, size=250, window=5, min_count=1, workers=4, sg=1)"
   ]
  },
  {
   "cell_type": "code",
   "execution_count": 38,
   "metadata": {
    "collapsed": false
   },
   "outputs": [],
   "source": [
    "model.save('word2vec.model')"
   ]
  },
  {
   "cell_type": "code",
   "execution_count": null,
   "metadata": {
    "collapsed": true
   },
   "outputs": [],
   "source": []
  },
  {
   "cell_type": "markdown",
   "metadata": {},
   "source": [
    "电脑内存不足 运行太慢，文件将上传服务器运行"
   ]
  },
  {
   "cell_type": "markdown",
   "metadata": {},
   "source": [
    "# using some words to test your performence"
   ]
  },
  {
   "cell_type": "markdown",
   "metadata": {},
   "source": [
    "words = ['美味的', '可口的']\n",
    "test = model.similarity"
   ]
  }
 ],
 "metadata": {
  "anaconda-cloud": {},
  "kernelspec": {
   "display_name": "Python [Root]",
   "language": "python",
   "name": "Python [Root]"
  },
  "language_info": {
   "codemirror_mode": {
    "name": "ipython",
    "version": 3
   },
   "file_extension": ".py",
   "mimetype": "text/x-python",
   "name": "python",
   "nbconvert_exporter": "python",
   "pygments_lexer": "ipython3",
   "version": "3.5.2"
  }
 },
 "nbformat": 4,
 "nbformat_minor": 0
}
