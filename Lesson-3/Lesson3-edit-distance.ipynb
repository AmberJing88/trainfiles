{
 "cells": [
  {
   "cell_type": "markdown",
   "metadata": {},
   "source": [
    "# lesson 3 homework answers"
   ]
  },
  {
   "cell_type": "markdown",
   "metadata": {},
   "source": [
    "Edit distance"
   ]
  },
  {
   "cell_type": "code",
   "execution_count": 1,
   "metadata": {
    "collapsed": true
   },
   "outputs": [],
   "source": [
    "solution = {}"
   ]
  },
  {
   "cell_type": "code",
   "execution_count": 2,
   "metadata": {
    "collapsed": true
   },
   "outputs": [],
   "source": [
    "from functools import lru_cache"
   ]
  },
  {
   "cell_type": "code",
   "execution_count": 5,
   "metadata": {
    "collapsed": true
   },
   "outputs": [],
   "source": [
    "@lru_cache(maxsize=2**10)\n",
    "def edit_distance(string1, string2):\n",
    "    \n",
    "    if len(string1) == 0: return len(string2)\n",
    "    if len(string2) == 0: return len(string1)\n",
    "    \n",
    "    tail_s1 = string1[-1]\n",
    "    tail_s2 = string2[-1]\n",
    "    \n",
    "    candidates = [\n",
    "        (edit_distance(string1[:-1], string2) +1, 'DEL {}'.format(tail_s1)),\n",
    "        (edit_distance(string1, string2[:-1]) +1, 'ADD {}'.format(tail_s2))\n",
    "    ]\n",
    "    if tail_s1 == tail_s2:\n",
    "        both_forward = (edit_distance(string1[:-1], string2[:-1]) +0, '')\n",
    "        \n",
    "    else:\n",
    "        both_forward = (edit_distance(string1[:-1], string2[:-1]) +1, 'SUB {} => {}'.format(tail_s1, tail_s2))\n",
    "        \n",
    "    candidates.append(both_forward)\n",
    "    min_distance, steps = min(candidates, key=lambda x: x[0])\n",
    "    \n",
    "    solution[(string1, string2)] = steps\n",
    "    \n",
    "    return min_distance\n",
    "        "
   ]
  },
  {
   "cell_type": "code",
   "execution_count": 6,
   "metadata": {
    "collapsed": false
   },
   "outputs": [
    {
     "data": {
      "text/plain": [
       "1"
      ]
     },
     "execution_count": 6,
     "metadata": {},
     "output_type": "execute_result"
    }
   ],
   "source": [
    "edit_distance('ABCD', 'ABCDE')"
   ]
  },
  {
   "cell_type": "code",
   "execution_count": 7,
   "metadata": {
    "collapsed": false
   },
   "outputs": [
    {
     "data": {
      "text/plain": [
       "{('A', 'A'): '',\n",
       " ('A', 'AB'): 'ADD B',\n",
       " ('A', 'ABC'): 'ADD C',\n",
       " ('A', 'ABCD'): 'ADD D',\n",
       " ('A', 'ABCDE'): 'ADD E',\n",
       " ('AB', 'A'): 'DEL B',\n",
       " ('AB', 'AB'): '',\n",
       " ('AB', 'ABC'): 'ADD C',\n",
       " ('AB', 'ABCD'): 'ADD D',\n",
       " ('AB', 'ABCDE'): 'ADD E',\n",
       " ('ABC', 'A'): 'DEL C',\n",
       " ('ABC', 'AB'): 'DEL C',\n",
       " ('ABC', 'ABC'): '',\n",
       " ('ABC', 'ABCD'): 'ADD D',\n",
       " ('ABC', 'ABCDE'): 'ADD E',\n",
       " ('ABCD', 'A'): 'DEL D',\n",
       " ('ABCD', 'AB'): 'DEL D',\n",
       " ('ABCD', 'ABC'): 'DEL D',\n",
       " ('ABCD', 'ABCD'): '',\n",
       " ('ABCD', 'ABCDE'): 'ADD E'}"
      ]
     },
     "execution_count": 7,
     "metadata": {},
     "output_type": "execute_result"
    }
   ],
   "source": [
    "solution\n"
   ]
  },
  {
   "cell_type": "markdown",
   "metadata": {},
   "source": [
    "to parse the solution, we need to define the exit condition (查表终止条件)\n",
    "in this case the stop condition is the campared strings are exect same"
   ]
  },
  {
   "cell_type": "code",
   "execution_count": 8,
   "metadata": {
    "collapsed": true
   },
   "outputs": [],
   "source": [
    "def stop_editing(string1, string2):\n",
    "    return string1 == string2\n",
    "\n",
    "def parse_solution(string1, string2, solution):\n",
    "    parsed_solution = []\n",
    "    \n",
    "    while not stop_editing(string1, string2):\n",
    "        operation = solution[(string1, string2)]\n",
    "        \n",
    "        if 'SUB' in operation:\n",
    "            string1, string2 = string1[:-1], string2[:-1]\n",
    "            \n",
    "        if operation == '':\n",
    "            string1, string2 = string1[:-1], string2[:-1]\n",
    "        if 'DEL' in operation:\n",
    "            string1, string2 = string1[:-1], string2\n",
    "        if 'ADD' in operation:\n",
    "            string1, string2 = string1, string2[:-1]\n",
    "        \n",
    "        parsed_solution.append(operation)\n",
    "        \n",
    "    return parsed_solution\n",
    "            "
   ]
  },
  {
   "cell_type": "code",
   "execution_count": 9,
   "metadata": {
    "collapsed": false
   },
   "outputs": [
    {
     "data": {
      "text/plain": [
       "3"
      ]
     },
     "execution_count": 9,
     "metadata": {},
     "output_type": "execute_result"
    }
   ],
   "source": [
    "edit_distance('beijing', 'nanjing')"
   ]
  },
  {
   "cell_type": "code",
   "execution_count": 10,
   "metadata": {
    "collapsed": false
   },
   "outputs": [
    {
     "data": {
      "text/plain": [
       "{('A', 'A'): '',\n",
       " ('A', 'AB'): 'ADD B',\n",
       " ('A', 'ABC'): 'ADD C',\n",
       " ('A', 'ABCD'): 'ADD D',\n",
       " ('A', 'ABCDE'): 'ADD E',\n",
       " ('AB', 'A'): 'DEL B',\n",
       " ('AB', 'AB'): '',\n",
       " ('AB', 'ABC'): 'ADD C',\n",
       " ('AB', 'ABCD'): 'ADD D',\n",
       " ('AB', 'ABCDE'): 'ADD E',\n",
       " ('ABC', 'A'): 'DEL C',\n",
       " ('ABC', 'AB'): 'DEL C',\n",
       " ('ABC', 'ABC'): '',\n",
       " ('ABC', 'ABCD'): 'ADD D',\n",
       " ('ABC', 'ABCDE'): 'ADD E',\n",
       " ('ABCD', 'A'): 'DEL D',\n",
       " ('ABCD', 'AB'): 'DEL D',\n",
       " ('ABCD', 'ABC'): 'DEL D',\n",
       " ('ABCD', 'ABCD'): '',\n",
       " ('ABCD', 'ABCDE'): 'ADD E',\n",
       " ('b', 'n'): 'SUB b => n',\n",
       " ('b', 'na'): 'ADD a',\n",
       " ('b', 'nan'): 'ADD n',\n",
       " ('b', 'nanj'): 'ADD j',\n",
       " ('b', 'nanji'): 'ADD i',\n",
       " ('b', 'nanjin'): 'ADD n',\n",
       " ('b', 'nanjing'): 'ADD g',\n",
       " ('be', 'n'): 'DEL e',\n",
       " ('be', 'na'): 'SUB e => a',\n",
       " ('be', 'nan'): 'ADD n',\n",
       " ('be', 'nanj'): 'ADD j',\n",
       " ('be', 'nanji'): 'ADD i',\n",
       " ('be', 'nanjin'): 'ADD n',\n",
       " ('be', 'nanjing'): 'ADD g',\n",
       " ('bei', 'n'): 'DEL i',\n",
       " ('bei', 'na'): 'DEL i',\n",
       " ('bei', 'nan'): 'SUB i => n',\n",
       " ('bei', 'nanj'): 'ADD j',\n",
       " ('bei', 'nanji'): '',\n",
       " ('bei', 'nanjin'): 'ADD n',\n",
       " ('bei', 'nanjing'): 'ADD g',\n",
       " ('beij', 'n'): 'DEL j',\n",
       " ('beij', 'na'): 'DEL j',\n",
       " ('beij', 'nan'): 'DEL j',\n",
       " ('beij', 'nanj'): '',\n",
       " ('beij', 'nanji'): 'ADD i',\n",
       " ('beij', 'nanjin'): 'ADD n',\n",
       " ('beij', 'nanjing'): 'ADD g',\n",
       " ('beiji', 'n'): 'DEL i',\n",
       " ('beiji', 'na'): 'DEL i',\n",
       " ('beiji', 'nan'): 'DEL i',\n",
       " ('beiji', 'nanj'): 'DEL i',\n",
       " ('beiji', 'nanji'): '',\n",
       " ('beiji', 'nanjin'): 'ADD n',\n",
       " ('beiji', 'nanjing'): 'ADD g',\n",
       " ('beijin', 'n'): '',\n",
       " ('beijin', 'na'): 'DEL n',\n",
       " ('beijin', 'nan'): '',\n",
       " ('beijin', 'nanj'): 'DEL n',\n",
       " ('beijin', 'nanji'): 'DEL n',\n",
       " ('beijin', 'nanjin'): '',\n",
       " ('beijin', 'nanjing'): 'ADD g',\n",
       " ('beijing', 'n'): 'DEL g',\n",
       " ('beijing', 'na'): 'SUB g => a',\n",
       " ('beijing', 'nan'): 'DEL g',\n",
       " ('beijing', 'nanj'): 'DEL g',\n",
       " ('beijing', 'nanji'): 'DEL g',\n",
       " ('beijing', 'nanjin'): 'DEL g',\n",
       " ('beijing', 'nanjing'): ''}"
      ]
     },
     "execution_count": 10,
     "metadata": {},
     "output_type": "execute_result"
    }
   ],
   "source": [
    "solution\n"
   ]
  },
  {
   "cell_type": "code",
   "execution_count": 11,
   "metadata": {
    "collapsed": false
   },
   "outputs": [
    {
     "data": {
      "text/plain": [
       "['', '', '', '', 'SUB i => n', 'SUB e => a', 'SUB b => n']"
      ]
     },
     "execution_count": 11,
     "metadata": {},
     "output_type": "execute_result"
    }
   ],
   "source": [
    "parse_solution('beijing', 'nanjing', solution)"
   ]
  },
  {
   "cell_type": "markdown",
   "metadata": {},
   "source": [
    "# impliment word2vec with gensim"
   ]
  },
  {
   "cell_type": "code",
   "execution_count": 16,
   "metadata": {
    "collapsed": false
   },
   "outputs": [],
   "source": [
    "from gensim.models import Word2Vec\n",
    "from gensim.models.word2vec import LineSentence\n"
   ]
  },
  {
   "cell_type": "code",
   "execution_count": 18,
   "metadata": {
    "collapsed": false
   },
   "outputs": [
    {
     "name": "stderr",
     "output_type": "stream",
     "text": [
      "C:\\Anaconda3\\lib\\site-packages\\gensim\\models\\base_any2vec.py:743: UserWarning: C extension not loaded, training will be slow. Install a C compiler and reinstall gensim for fast training.\n",
      "  \"C extension not loaded, training will be slow. \"\n"
     ]
    }
   ],
   "source": [
    "# initialize and train a simple word2vec model\n",
    "sentences = [['cat', 'say', 'meow'], ['dog', 'say', 'woof']]\n",
    "model = Word2Vec(sentences, min_count=1)"
   ]
  },
  {
   "cell_type": "code",
   "execution_count": 19,
   "metadata": {
    "collapsed": false
   },
   "outputs": [
    {
     "name": "stderr",
     "output_type": "stream",
     "text": [
      "C:\\Anaconda3\\lib\\site-packages\\ipykernel\\__main__.py:1: DeprecationWarning: Call to deprecated `most_similar` (Method will be removed in 4.0.0, use self.wv.most_similar() instead).\n",
      "  if __name__ == '__main__':\n"
     ]
    },
    {
     "data": {
      "text/plain": [
       "[('say', 0.0822763741016388),\n",
       " ('woof', -0.05662330240011215),\n",
       " ('dog', -0.2060277760028839),\n",
       " ('meow', -0.2275446057319641)]"
      ]
     },
     "execution_count": 19,
     "metadata": {},
     "output_type": "execute_result"
    }
   ],
   "source": [
    "model.most_similar('cat')"
   ]
  },
  {
   "cell_type": "code",
   "execution_count": 21,
   "metadata": {
    "collapsed": false
   },
   "outputs": [
    {
     "data": {
      "text/plain": [
       "array([ 3.6301427e-03,  4.3624691e-03, -4.6222149e-03, -1.2239479e-03,\n",
       "       -3.3583716e-04, -9.8949391e-04,  2.6895751e-03, -2.2235587e-03,\n",
       "       -3.3874510e-04,  1.0819205e-03, -2.1931196e-04, -3.6317226e-04,\n",
       "       -4.6313679e-04,  4.8565581e-03,  2.5151917e-03,  1.7762181e-03,\n",
       "       -3.9663543e-03, -2.1398652e-03,  2.0874327e-03,  1.3524992e-03,\n",
       "        7.0310303e-04,  1.5195165e-03, -3.2153383e-03,  5.7246297e-04,\n",
       "       -3.6974563e-03,  1.6346732e-04, -3.1720821e-03,  1.8285799e-03,\n",
       "       -5.6367600e-04,  3.4949554e-03,  4.4486169e-03,  1.7459771e-03,\n",
       "       -2.8253458e-03,  3.6997753e-03, -3.3893262e-03,  1.8311867e-04,\n",
       "        3.7948971e-03,  2.1312826e-03, -1.0568844e-03, -2.4309200e-03,\n",
       "        3.0845829e-05, -5.4974144e-04,  4.8171864e-03, -2.1743712e-03,\n",
       "       -1.8673073e-04,  4.1929483e-03,  3.4939926e-04, -1.5837047e-04,\n",
       "       -4.9456321e-03, -3.2170373e-04,  4.3770843e-03, -2.2954929e-03,\n",
       "        1.8075284e-03, -2.6373810e-03,  1.5358817e-03, -2.6413244e-03,\n",
       "       -1.6046262e-03,  2.2875136e-03, -4.9747517e-03, -1.4485149e-03,\n",
       "        3.9934157e-03, -3.2638509e-03,  7.1354560e-05,  1.4220455e-03,\n",
       "        1.4312123e-03, -2.5773395e-03,  4.2306716e-03, -4.3000681e-03,\n",
       "       -1.9190500e-03,  2.2433359e-04, -2.7437420e-03,  4.8850139e-04,\n",
       "       -5.8691396e-04, -1.2046858e-03, -4.1362178e-03, -2.0956504e-03,\n",
       "       -3.5529642e-04, -5.3692400e-04,  4.6312967e-03,  3.0459778e-03,\n",
       "       -4.9955775e-03, -4.6318318e-03,  4.0660324e-03, -4.3062204e-03,\n",
       "       -2.3506156e-03, -3.5726426e-03,  2.2706047e-03, -1.6759872e-03,\n",
       "       -3.5164689e-03, -3.7607818e-03, -2.0302455e-03, -4.7870912e-03,\n",
       "       -2.5397989e-03,  2.1661508e-03, -3.9155832e-03, -1.5724149e-03,\n",
       "       -2.9901232e-04,  3.4420292e-03, -4.4849347e-03,  4.3340288e-03],\n",
       "      dtype=float32)"
      ]
     },
     "execution_count": 21,
     "metadata": {},
     "output_type": "execute_result"
    }
   ],
   "source": [
    "model.wv['cat']"
   ]
  },
  {
   "cell_type": "code",
   "execution_count": null,
   "metadata": {
    "collapsed": true
   },
   "outputs": [],
   "source": []
  }
 ],
 "metadata": {
  "anaconda-cloud": {},
  "kernelspec": {
   "display_name": "Python [Root]",
   "language": "python",
   "name": "Python [Root]"
  },
  "language_info": {
   "codemirror_mode": {
    "name": "ipython",
    "version": 3
   },
   "file_extension": ".py",
   "mimetype": "text/x-python",
   "name": "python",
   "nbconvert_exporter": "python",
   "pygments_lexer": "ipython3",
   "version": "3.5.2"
  }
 },
 "nbformat": 4,
 "nbformat_minor": 0
}
