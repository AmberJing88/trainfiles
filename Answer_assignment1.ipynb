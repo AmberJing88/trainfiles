{
 "cells": [
  {
   "cell_type": "code",
   "execution_count": null,
   "metadata": {
    "collapsed": true
   },
   "outputs": [],
   "source": [
    "#  lesson 1 codes in class review\n",
    "# first time using the jupyter note book"
   ]
  },
  {
   "cell_type": "code",
   "execution_count": 5,
   "metadata": {
    "collapsed": false
   },
   "outputs": [],
   "source": [
    "## Answers for Assignment 1\n",
    "##1. Applications used AI methods: Google homemini, self-check-out machine, self-driving cars\n",
    "##2. Probability Model:\n",
    "## Pr(A|B)= (Pr(B|A)*Pr(A))/Pr(B)\n",
    "##3. Scenarios used probability model: email trash fileter, training robot undertanding, words gussing in search engines\n",
    "##4. Probability model ususlly used to calculate the posibility of events happening in scinarios. the difficults are:\n",
    "## 1. if the campared source is not enough, the probabilities of the events are not accurate.\n",
    "## 2. the relationship between events are not stable, in different sources, therefore, the results are vary.\n",
    "##5. Language Model: probability distribution over the whole string of words. A string with length m, the probability of \n",
    "## Pr(w1,...,Wm) to the whole sequence.\n",
    "##6. Applications used language Model: machine translation, speech recognation, character recognation\n",
    "##7. 1-gram Language Model is the word probability is independence to others in a sequence, Pr(W1)\n",
    "##8. Advantages: calculate is simple and fast.\n",
    "##   Disadvantages: not accurate, difficult to apply when need to compare.\n",
    "##9.2-gram Model: a words language probability is only ralated to the one next to it. Pr(wn|w1..wn-1)~Pr(wn|wn-1)\n",
    "\n"
   ]
  },
  {
   "cell_type": "code",
   "execution_count": 38,
   "metadata": {
    "collapsed": true
   },
   "outputs": [],
   "source": [
    "my_grammar = '''\n",
    "Alien = 寒暄 报名 动作 业务相关\n",
    "报名 = 我是 名字\n",
    "名字 = 娜美 | 天使 | 星人 | 蒸汽 | 地球 |美女\n",
    "动作 = 动词 形容词组 名字\n",
    "动词 = 造访 | 考察 | 勾搭 | 毁灭 | 吃\n",
    "形容词组 = null | 形容词 形容词对\n",
    "形容词对 = null | 形容词\n",
    "形容词 = 蓝色的 | 绚烂的 | 美味的 | 漆黑的 | 不正经的\n",
    "业务相关 = 动词 形容词 名字\n",
    "寒暄 = 你好, | 您好, | 初次相见,\n",
    "'''"
   ]
  },
  {
   "cell_type": "code",
   "execution_count": 39,
   "metadata": {
    "collapsed": true
   },
   "outputs": [],
   "source": [
    "another_grammar ='''\n",
    "twister =  动作 是否 动作 结果\n",
    "动作 = 动词 形容词 名词\n",
    "动词 = 吃 | 吐 | 来 | 去 | 上 | 下\n",
    "形容词 = 红 | 绿 | 蓝\n",
    "是否 = 是 | 不\n",
    "名词 = 葡萄 | 哑巴 | 喇嘛 | 塔玛 | 葡萄皮\n",
    "结果 = 名词\n",
    "'''"
   ]
  },
  {
   "cell_type": "code",
   "execution_count": 40,
   "metadata": {
    "collapsed": true
   },
   "outputs": [],
   "source": [
    "import random"
   ]
  },
  {
   "cell_type": "code",
   "execution_count": 41,
   "metadata": {
    "collapsed": false
   },
   "outputs": [],
   "source": [
    "def create_grammar(grammar_str, split='=', line_split='\\n'):\n",
    "    grammar = {}\n",
    "    for line in grammar_str.split(line_split):\n",
    "        if not line.strip(): continue # if the line is empty go on next\n",
    "        move, state = line.split(split)\n",
    "        grammar[move.strip()] = [s.split() for s in state.split('|')]\n",
    "    return grammar\n",
    "        "
   ]
  },
  {
   "cell_type": "code",
   "execution_count": 42,
   "metadata": {
    "collapsed": false
   },
   "outputs": [
    {
     "data": {
      "text/plain": [
       "{'Alien': [['寒暄', '报名', '动作', '业务相关']],\n",
       " '业务相关': [['动词', '形容词', '名字']],\n",
       " '动作': [['动词', '形容词组', '名字']],\n",
       " '动词': [['造访'], ['考察'], ['勾搭'], ['毁灭'], ['吃']],\n",
       " '名字': [['娜美'], ['天使'], ['星人'], ['蒸汽'], ['地球'], ['美女']],\n",
       " '寒暄': [['你好,'], ['您好,'], ['初次相见,']],\n",
       " '形容词': [['蓝色的'], ['绚烂的'], ['美味的'], ['漆黑的'], ['不正经的']],\n",
       " '形容词对': [['null'], ['形容词']],\n",
       " '形容词组': [['null'], ['形容词', '形容词对']],\n",
       " '报名': [['我是', '名字']]}"
      ]
     },
     "execution_count": 42,
     "metadata": {},
     "output_type": "execute_result"
    }
   ],
   "source": [
    "create_grammar(my_grammar)"
   ]
  },
  {
   "cell_type": "code",
   "execution_count": 43,
   "metadata": {
    "collapsed": true
   },
   "outputs": [],
   "source": [
    "import random"
   ]
  },
  {
   "cell_type": "code",
   "execution_count": 44,
   "metadata": {
    "collapsed": false
   },
   "outputs": [],
   "source": [
    "def generate(gram, target):\n",
    "    if target in gram:\n",
    "        expand = random.choice(gram[target])\n",
    "        result = [generate(gram, tar) for tar in expand]\n",
    "        return ''.join([e if e != '\\n' else '/n' for e in result if e != 'null'])\n",
    "    else:\n",
    "        return target\n",
    "        \n",
    "        "
   ]
  },
  {
   "cell_type": "code",
   "execution_count": 53,
   "metadata": {
    "collapsed": true
   },
   "outputs": [],
   "source": [
    "def generate_n(n, grammar_string, target):\n",
    "    result = []\n",
    "    for i in range(n):\n",
    "        result.append(generate(create_grammar(grammar_string), target))\n",
    "    return result"
   ]
  },
  {
   "cell_type": "code",
   "execution_count": 54,
   "metadata": {
    "collapsed": false
   },
   "outputs": [
    {
     "name": "stdout",
     "output_type": "stream",
     "text": [
      "您好,我是美女勾搭美味的娜美考察不正经的蒸汽\n"
     ]
    }
   ],
   "source": [
    "print(generate(create_grammar(my_grammar), target= 'Alien'))"
   ]
  },
  {
   "cell_type": "code",
   "execution_count": 55,
   "metadata": {
    "collapsed": false
   },
   "outputs": [
    {
     "name": "stdout",
     "output_type": "stream",
     "text": [
      "['初次相见,我是天使考察漆黑的美女造访绚烂的娜美', '你好,我是娜美吃美女吃漆黑的蒸汽', '你好,我是天使吃蓝色的蓝色的地球毁灭美味的娜美', '你好,我是娜美造访天使吃不正经的天使', '你好,我是天使勾搭美味的美女考察不正经的娜美', '你好,我是蒸汽毁灭不正经的娜美勾搭漆黑的地球', '您好,我是娜美毁灭漆黑的天使考察漆黑的蒸汽']\n"
     ]
    }
   ],
   "source": [
    "print(generate_n(7, my_grammar, 'Alien'))"
   ]
  },
  {
   "cell_type": "code",
   "execution_count": 56,
   "metadata": {
    "collapsed": true
   },
   "outputs": [],
   "source": [
    "filename = 'C:/Users/Jing/Downloads/trainfiles/train.txt'"
   ]
  },
  {
   "cell_type": "code",
   "execution_count": 57,
   "metadata": {
    "collapsed": false
   },
   "outputs": [],
   "source": [
    "import pandas as pd\n",
    "content = pd.read_csv(filename, sep='，', encoding='utf-8')"
   ]
  },
  {
   "cell_type": "code",
   "execution_count": 58,
   "metadata": {
    "collapsed": false
   },
   "outputs": [
    {
     "data": {
      "text/html": [
       "<div>\n",
       "<table border=\"1\" class=\"dataframe\">\n",
       "  <thead>\n",
       "    <tr style=\"text-align: right;\">\n",
       "      <th></th>\n",
       "      <th>0 ++$++ disability-insurance ++$++ 法律要求残疾保险吗？ ++$++ Is  Disability  Insurance  Required  By  Law?</th>\n",
       "    </tr>\n",
       "  </thead>\n",
       "  <tbody>\n",
       "    <tr>\n",
       "      <th>0</th>\n",
       "      <td>1 ++$++ life-insurance ++$++ 债权人可以在死后人寿保险吗？ ++...</td>\n",
       "    </tr>\n",
       "    <tr>\n",
       "      <th>1</th>\n",
       "      <td>2 ++$++ renters-insurance ++$++ 旅行者保险有租赁保险吗？ +...</td>\n",
       "    </tr>\n",
       "    <tr>\n",
       "      <th>2</th>\n",
       "      <td>3 ++$++ auto-insurance ++$++ 我可以开一辆没有保险的新车吗？ +...</td>\n",
       "    </tr>\n",
       "    <tr>\n",
       "      <th>3</th>\n",
       "      <td>4 ++$++ life-insurance ++$++ 人寿保险的现金转出价值是否应纳税？...</td>\n",
       "    </tr>\n",
       "    <tr>\n",
       "      <th>4</th>\n",
       "      <td>5 ++$++ annuities ++$++ 如何报告年金收入？ ++$++ How  I...</td>\n",
       "    </tr>\n",
       "  </tbody>\n",
       "</table>\n",
       "</div>"
      ],
      "text/plain": [
       "  0 ++$++ disability-insurance ++$++ 法律要求残疾保险吗？ ++$++ Is  Disability  Insurance  Required  By  Law?\n",
       "0  1 ++$++ life-insurance ++$++ 债权人可以在死后人寿保险吗？ ++...                                               \n",
       "1  2 ++$++ renters-insurance ++$++ 旅行者保险有租赁保险吗？ +...                                               \n",
       "2  3 ++$++ auto-insurance ++$++ 我可以开一辆没有保险的新车吗？ +...                                               \n",
       "3  4 ++$++ life-insurance ++$++ 人寿保险的现金转出价值是否应纳税？...                                               \n",
       "4  5 ++$++ annuities ++$++ 如何报告年金收入？ ++$++ How  I...                                               "
      ]
     },
     "execution_count": 58,
     "metadata": {},
     "output_type": "execute_result"
    }
   ],
   "source": [
    "content.head()"
   ]
  },
  {
   "cell_type": "code",
   "execution_count": 59,
   "metadata": {
    "collapsed": false
   },
   "outputs": [],
   "source": [
    "articles= content.values.tolist()"
   ]
  },
  {
   "cell_type": "code",
   "execution_count": 60,
   "metadata": {
    "collapsed": false
   },
   "outputs": [
    {
     "data": {
      "text/plain": [
       "12888"
      ]
     },
     "execution_count": 60,
     "metadata": {},
     "output_type": "execute_result"
    }
   ],
   "source": [
    "len(articles)"
   ]
  },
  {
   "cell_type": "code",
   "execution_count": 61,
   "metadata": {
    "collapsed": false
   },
   "outputs": [
    {
     "data": {
      "text/plain": [
       "['1 ++$++ life-insurance ++$++ 债权人可以在死后人寿保险吗？ ++$++ Can  Creditors  Take  Life  Insurance  After  Death?']"
      ]
     },
     "execution_count": 61,
     "metadata": {},
     "output_type": "execute_result"
    }
   ],
   "source": [
    "articles[0]"
   ]
  },
  {
   "cell_type": "code",
   "execution_count": 62,
   "metadata": {
    "collapsed": false
   },
   "outputs": [
    {
     "data": {
      "text/plain": [
       "'1 ++$++ life-insurance ++$++ 债权人可以在死后人寿保险吗？ ++$++ Can  Creditors  Take  Life  Insurance  After  Death?'"
      ]
     },
     "execution_count": 62,
     "metadata": {},
     "output_type": "execute_result"
    }
   ],
   "source": [
    "articles[0][0]"
   ]
  },
  {
   "cell_type": "code",
   "execution_count": 63,
   "metadata": {
    "collapsed": false
   },
   "outputs": [],
   "source": [
    "def extract_words(articles):\n",
    "    articles_clean = ''\n",
    "    for i in range(len(articles)):\n",
    "        articles_clean= articles_clean + articles[i][0].split('++$++')[2]\n",
    "    return articles_clean\n"
   ]
  },
  {
   "cell_type": "code",
   "execution_count": 64,
   "metadata": {
    "collapsed": false
   },
   "outputs": [],
   "source": [
    "articles_clean = extract_words(articles)"
   ]
  },
  {
   "cell_type": "code",
   "execution_count": 65,
   "metadata": {
    "collapsed": true
   },
   "outputs": [],
   "source": [
    "import re"
   ]
  },
  {
   "cell_type": "code",
   "execution_count": 66,
   "metadata": {
    "collapsed": true
   },
   "outputs": [],
   "source": [
    "def token(string):\n",
    "    return re.findall('\\w+', string)"
   ]
  },
  {
   "cell_type": "code",
   "execution_count": 67,
   "metadata": {
    "collapsed": false
   },
   "outputs": [],
   "source": [
    "article = ''.join(token(articles_clean))"
   ]
  },
  {
   "cell_type": "code",
   "execution_count": 68,
   "metadata": {
    "collapsed": false
   },
   "outputs": [],
   "source": [
    "from collections import Counter"
   ]
  },
  {
   "cell_type": "code",
   "execution_count": 69,
   "metadata": {
    "collapsed": false
   },
   "outputs": [],
   "source": [
    "import jieba"
   ]
  },
  {
   "cell_type": "code",
   "execution_count": 70,
   "metadata": {
    "collapsed": false
   },
   "outputs": [
    {
     "name": "stderr",
     "output_type": "stream",
     "text": [
      "Building prefix dict from the default dictionary ...\n",
      "Loading model from cache C:\\Users\\Jing\\AppData\\Local\\Temp\\jieba.cache\n",
      "Loading model cost 3.860 seconds.\n",
      "Prefix dict has been built succesfully.\n"
     ]
    }
   ],
   "source": [
    "with_jieba_cut = Counter(jieba.cut(article))"
   ]
  },
  {
   "cell_type": "code",
   "execution_count": 71,
   "metadata": {
    "collapsed": false
   },
   "outputs": [
    {
     "data": {
      "text/plain": [
       "[('保险', 5004),\n",
       " ('的', 3220),\n",
       " ('人寿保险', 2962),\n",
       " ('什么', 2677),\n",
       " ('吗', 2478),\n",
       " ('是', 2347),\n",
       " ('我', 2056),\n",
       " ('是否', 1862),\n",
       " ('可以', 1704),\n",
       " ('健康', 1513)]"
      ]
     },
     "execution_count": 71,
     "metadata": {},
     "output_type": "execute_result"
    }
   ],
   "source": [
    "with_jieba_cut.most_common()[:10]"
   ]
  },
  {
   "cell_type": "code",
   "execution_count": 72,
   "metadata": {
    "collapsed": false
   },
   "outputs": [],
   "source": [
    "with open('train_cut.txt', 'w') as f:\n",
    "   for a in with_jieba_cut:\n",
    "    f.write(a)"
   ]
  },
  {
   "cell_type": "code",
   "execution_count": 73,
   "metadata": {
    "collapsed": true
   },
   "outputs": [],
   "source": [
    "frequences = [f for w, f in with_jieba_cut.most_common(100)]"
   ]
  },
  {
   "cell_type": "code",
   "execution_count": 74,
   "metadata": {
    "collapsed": true
   },
   "outputs": [],
   "source": [
    "x = [i for i in range(100) ]"
   ]
  },
  {
   "cell_type": "code",
   "execution_count": 75,
   "metadata": {
    "collapsed": true
   },
   "outputs": [],
   "source": [
    "%matplotlib inline"
   ]
  },
  {
   "cell_type": "code",
   "execution_count": 76,
   "metadata": {
    "collapsed": true
   },
   "outputs": [],
   "source": [
    "import matplotlib.pyplot as plt"
   ]
  },
  {
   "cell_type": "code",
   "execution_count": 77,
   "metadata": {
    "collapsed": false
   },
   "outputs": [
    {
     "data": {
      "text/plain": [
       "[<matplotlib.lines.Line2D at 0x28c2e09be10>]"
      ]
     },
     "execution_count": 77,
     "metadata": {},
     "output_type": "execute_result"
    },
    {
     "data": {
      "image/png": "[encoded data removed]",
      "text/plain": [
       "<matplotlib.figure.Figure at 0x28c318ef7f0>"
      ]
     },
     "metadata": {},
     "output_type": "display_data"
    }
   ],
   "source": [
    "plt.plot(x, frequences)"
   ]
  },
  {
   "cell_type": "code",
   "execution_count": 78,
   "metadata": {
    "collapsed": true
   },
   "outputs": [],
   "source": [
    "def prob1(target):\n",
    "    return with_jieba_cut[target] / len(with_jieba_cut)"
   ]
  },
  {
   "cell_type": "code",
   "execution_count": 79,
   "metadata": {
    "collapsed": false
   },
   "outputs": [
    {
     "data": {
      "text/plain": [
       "0.014325207338527268"
      ]
     },
     "execution_count": 79,
     "metadata": {},
     "output_type": "execute_result"
    }
   ],
   "source": [
    "prob1('我们')"
   ]
  },
  {
   "cell_type": "code",
   "execution_count": 80,
   "metadata": {
    "collapsed": false
   },
   "outputs": [
    {
     "data": {
      "text/plain": [
       "0.0"
      ]
     },
     "execution_count": 80,
     "metadata": {},
     "output_type": "execute_result"
    }
   ],
   "source": [
    "prob1('吃饭')"
   ]
  },
  {
   "cell_type": "code",
   "execution_count": 81,
   "metadata": {
    "collapsed": false
   },
   "outputs": [],
   "source": [
    "TOKEN = [str(t) for t in with_jieba_cut]"
   ]
  },
  {
   "cell_type": "code",
   "execution_count": 82,
   "metadata": {
    "collapsed": false
   },
   "outputs": [
    {
     "data": {
      "text/plain": [
       "['抚恤金', '年龄', '资源', '问题', '死亡', '奇尼', '病毒', '公共', '中', 'LPC']"
      ]
     },
     "execution_count": 82,
     "metadata": {},
     "output_type": "execute_result"
    }
   ],
   "source": [
    "TOKEN[:10]"
   ]
  },
  {
   "cell_type": "code",
   "execution_count": 83,
   "metadata": {
    "collapsed": true
   },
   "outputs": [],
   "source": [
    "TOKEN2 = [''.join(TOKEN[i: i+2]) for i in range(len(TOKEN[:-2]))]"
   ]
  },
  {
   "cell_type": "code",
   "execution_count": 84,
   "metadata": {
    "collapsed": false
   },
   "outputs": [
    {
     "data": {
      "text/plain": [
       "['抚恤金年龄',\n",
       " '年龄资源',\n",
       " '资源问题',\n",
       " '问题死亡',\n",
       " '死亡奇尼',\n",
       " '奇尼病毒',\n",
       " '病毒公共',\n",
       " '公共中',\n",
       " '中LPC',\n",
       " 'LPCCSV']"
      ]
     },
     "execution_count": 84,
     "metadata": {},
     "output_type": "execute_result"
    }
   ],
   "source": [
    "TOKEN2[:10]"
   ]
  },
  {
   "cell_type": "code",
   "execution_count": 85,
   "metadata": {
    "collapsed": true
   },
   "outputs": [],
   "source": [
    "words_count_2 = Counter(TOKEN2)"
   ]
  },
  {
   "cell_type": "code",
   "execution_count": 86,
   "metadata": {
    "collapsed": true
   },
   "outputs": [],
   "source": [
    "def prob2(word1, word2):\n",
    "    if word1+ word2 in words_count_2:\n",
    "        return (words_count_2(word1+word2)/len(TOKEN2)) * prob1(word1) / prob1(word2)\n",
    "    else:\n",
    "        return (prob1(word1) + prob1(word2)) / 2"
   ]
  },
  {
   "cell_type": "code",
   "execution_count": 87,
   "metadata": {
    "collapsed": true
   },
   "outputs": [],
   "source": [
    "import jieba"
   ]
  },
  {
   "cell_type": "code",
   "execution_count": 88,
   "metadata": {
    "collapsed": true
   },
   "outputs": [],
   "source": [
    "def cut(string):\n",
    "    return list(jieba.cut(string))"
   ]
  },
  {
   "cell_type": "code",
   "execution_count": 89,
   "metadata": {
    "collapsed": false
   },
   "outputs": [
    {
     "data": {
      "text/plain": [
       "['我', '在', '吃', '午饭']"
      ]
     },
     "execution_count": 89,
     "metadata": {},
     "output_type": "execute_result"
    }
   ],
   "source": [
    "cut('我在吃午饭')"
   ]
  },
  {
   "cell_type": "code",
   "execution_count": 90,
   "metadata": {
    "collapsed": true
   },
   "outputs": [],
   "source": [
    "def sentence_probability(sentence):\n",
    "    words = cut(sentence)\n",
    "    for i, word in enumerate(sentence[:-1]):\n",
    "        next_ = sentence[i+1]\n",
    "        sentence_prob = 1\n",
    "        probability = prob2(word, next_)\n",
    "        sentence_prob *= probability\n",
    "    return sentence_prob\n",
    "        "
   ]
  },
  {
   "cell_type": "code",
   "execution_count": 91,
   "metadata": {
    "collapsed": false
   },
   "outputs": [
    {
     "data": {
      "text/plain": [
       "0.0003769791404875597"
      ]
     },
     "execution_count": 91,
     "metadata": {},
     "output_type": "execute_result"
    }
   ],
   "source": [
    "sentence_probability('小明今天没有抽到波音飞机')"
   ]
  },
  {
   "cell_type": "code",
   "execution_count": 109,
   "metadata": {
    "collapsed": true
   },
   "outputs": [],
   "source": [
    "def best_sentence(sentences):\n",
    "    result = []\n",
    "    scores = {}\n",
    "    for s in sentences:\n",
    "        result.append(sentence_probability(s))\n",
    "        scores[s] = sentence_probability(s)\n",
    "    high = sorted(result, reverse= True)[0]\n",
    "    for key in scores:\n",
    "        if scores[key] == high:\n",
    "            return key\n",
    "    "
   ]
  },
  {
   "cell_type": "code",
   "execution_count": 110,
   "metadata": {
    "collapsed": true
   },
   "outputs": [],
   "source": [
    "example = generate_n(7, my_grammar, 'Alien')"
   ]
  },
  {
   "cell_type": "code",
   "execution_count": 111,
   "metadata": {
    "collapsed": false
   },
   "outputs": [
    {
     "data": {
      "text/plain": [
       "['您好,我是星人吃漆黑的蓝色的星人造访绚烂的蒸汽',\n",
       " '您好,我是地球吃绚烂的漆黑的星人造访蓝色的星人',\n",
       " '你好,我是星人吃不正经的娜美考察不正经的美女',\n",
       " '你好,我是蒸汽考察漆黑的美女吃漆黑的娜美',\n",
       " '你好,我是星人勾搭星人毁灭美味的美女',\n",
       " '你好,我是星人吃蒸汽勾搭蓝色的天使',\n",
       " '您好,我是天使考察美女吃美味的星人']"
      ]
     },
     "execution_count": 111,
     "metadata": {},
     "output_type": "execute_result"
    }
   ],
   "source": [
    "example"
   ]
  },
  {
   "cell_type": "code",
   "execution_count": 112,
   "metadata": {
    "collapsed": false
   },
   "outputs": [
    {
     "name": "stdout",
     "output_type": "stream",
     "text": [
      "您好,我是天使考察美女吃美味的星人\n"
     ]
    }
   ],
   "source": [
    "print(best_sentence(example))"
   ]
  },
  {
   "cell_type": "code",
   "execution_count": 60,
   "metadata": {
    "collapsed": false
   },
   "outputs": [
    {
     "name": "stdout",
     "output_type": "stream",
     "text": [
      "sentence 这个桌子听着这个篮球下边 with prb 0.002764513696908771\n",
      "sentence 一个女人看着这个小小的小小的小小的小猫旁边 with prb 0.0\n",
      "sentence 一个桌子看着一个蓝色的小猫上面 with prb 0.013696908771048002\n",
      "sentence 一个篮球听着一个好看的小猫旁边 with prb 0.0\n",
      "sentence 一个女人坐在这个篮球下边 with prb 0.002764513696908771\n",
      "sentence 这个小猫看着这个蓝色的好看的蓝色的好看的小猫上面 with prb 0.013696908771048002\n",
      "sentence 一个女人看见一个小猫上面 with prb 0.013696908771048002\n",
      "sentence 一个蓝色的桌子坐在一个蓝色的蓝色的蓝色的篮球下边 with prb 0.002764513696908771\n",
      "sentence 这个女人听着这个好看的好看的好看的小猫下边 with prb 0.002764513696908771\n",
      "sentence 这个小猫听着一个蓝色的篮球旁边 with prb 0.0\n"
     ]
    }
   ],
   "source": [
    "for sen in [generate(gram=create_grammar(simple_grammar), target='sentence') for i in range(10)]:\n",
    "    print('sentence {} with prb {}'.format(sen, sentence_probability(sen)))"
   ]
  },
  {
   "cell_type": "code",
   "execution_count": null,
   "metadata": {
    "collapsed": true
   },
   "outputs": [],
   "source": []
  }
 ],
 "metadata": {
  "anaconda-cloud": {},
  "kernelspec": {
   "display_name": "Python [Root]",
   "language": "python",
   "name": "Python [Root]"
  },
  "language_info": {
   "codemirror_mode": {
    "name": "ipython",
    "version": 3
   },
   "file_extension": ".py",
   "mimetype": "text/x-python",
   "name": "python",
   "nbconvert_exporter": "python",
   "pygments_lexer": "ipython3",
   "version": "3.5.2"
  }
 },
 "nbformat": 4,
 "nbformat_minor": 0
}
